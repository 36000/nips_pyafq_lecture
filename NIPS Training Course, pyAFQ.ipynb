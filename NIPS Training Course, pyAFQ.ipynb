version https://git-lfs.github.com/spec/v1
oid sha256:b14bc940768b7fc8b790ceda33ff42286a8a17d304888ef959bfb92c59d44a13
size 204695441
